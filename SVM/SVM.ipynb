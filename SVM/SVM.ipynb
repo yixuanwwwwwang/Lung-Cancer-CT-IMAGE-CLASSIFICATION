{
 "cells": [
  {
   "cell_type": "code",
   "execution_count": 1,
   "metadata": {},
   "outputs": [],
   "source": [
    "import pandas as pd \n",
    "pd_train_X = pd.read_csv('pd_train_X.csv')\n",
    "pd_test_X = pd.read_csv('pd_test_X.csv')\n",
    "pd_train_y = pd.read_csv('pd_train_y.csv')\n",
    "pd_test_y = pd.read_csv('pd_test_y.csv')"
   ]
  },
  {
   "cell_type": "code",
   "execution_count": 2,
   "metadata": {
    "scrolled": true
   },
   "outputs": [
    {
     "name": "stdout",
     "output_type": "stream",
     "text": [
      "<class 'pandas.core.frame.DataFrame'>\n",
      "RangeIndex: 1917 entries, 0 to 1916\n",
      "Columns: 144 entries, 0 to 143\n",
      "dtypes: float64(144)\n",
      "memory usage: 2.1 MB\n"
     ]
    }
   ],
   "source": [
    "pd_train_X.info()"
   ]
  },
  {
   "cell_type": "code",
   "execution_count": 3,
   "metadata": {},
   "outputs": [],
   "source": [
    "import numpy as np\n",
    "\n",
    "#np.array(df)\n",
    "\n",
    "np_train_X = np.array(pd_train_X.values)\n",
    "np_test_X = np.array(pd_test_X.values)\n",
    "np_train_y = np.array(pd_train_y.values)\n",
    "np_test_y = np.array(pd_test_y.values)"
   ]
  },
  {
   "cell_type": "code",
   "execution_count": 4,
   "metadata": {},
   "outputs": [
    {
     "name": "stdout",
     "output_type": "stream",
     "text": [
      "(1917, 144)\n",
      "(1917, 1)\n",
      "(822, 144)\n",
      "(822, 1)\n"
     ]
    }
   ],
   "source": [
    "print(np_train_X.shape)\n",
    "print(np_train_y.shape)\n",
    "print(np_test_X.shape)\n",
    "print(np_test_y.shape)"
   ]
  },
  {
   "cell_type": "code",
   "execution_count": 5,
   "metadata": {},
   "outputs": [
    {
     "name": "stdout",
     "output_type": "stream",
     "text": [
      "(1917,)\n",
      "(1917, 144)\n"
     ]
    }
   ],
   "source": [
    "train_y=np_train_y.ravel()\n",
    "print(train_y.shape)\n",
    "print(np_train_X.shape)"
   ]
  },
  {
   "cell_type": "code",
   "execution_count": 6,
   "metadata": {},
   "outputs": [
    {
     "name": "stdout",
     "output_type": "stream",
     "text": [
      "1.0\n"
     ]
    }
   ],
   "source": [
    "#from sklearn.datasets import load_iris\n",
    "from sklearn.gaussian_process import GaussianProcessClassifier\n",
    "from sklearn.gaussian_process.kernels import RBF\n",
    "#X, y = load_iris(return_X_y=True)\n",
    "kernel = 2.0 * RBF(np_train_X.shape[1])\n",
    "gpc = GaussianProcessClassifier(kernel=kernel,\n",
    "         random_state=0).fit(np_train_X, train_y)\n",
    "print(gpc.score(np_train_X, np_train_y))"
   ]
  },
  {
   "cell_type": "code",
   "execution_count": 7,
   "metadata": {},
   "outputs": [
    {
     "name": "stdout",
     "output_type": "stream",
     "text": [
      "1.0\n"
     ]
    }
   ],
   "source": [
    "print(gpc.score(np_test_X, np_test_y))"
   ]
  },
  {
   "cell_type": "code",
   "execution_count": 8,
   "metadata": {},
   "outputs": [
    {
     "name": "stdout",
     "output_type": "stream",
     "text": [
      "0.13889579474294622\n",
      "822 4\n",
      "0.1152033320593292\n",
      "************************************************************\n",
      "[1, 3, 3, 1, 1, 2, 2, 3, 1, 1, 3, 3, 1, 1, 3, 2, 3, 2, 1, 3, 2, 1, 3, 3, 1, 0, 0, 3, 2, 1, 1, 2, 1, 0, 1, 0, 3, 3, 0, 3, 1, 0, 2, 2, 2, 1, 1, 0, 2, 3, 0, 3, 3, 3, 2, 0, 1, 2, 1, 0, 2, 0, 2, 2, 1, 3, 2, 1, 1, 1, 2, 1, 0, 0, 1, 3, 3, 1, 1, 1, 1, 1, 2, 3, 1, 0, 2, 3, 2, 1, 3, 3, 1, 3, 1, 2, 3, 1, 1, 2, 0, 2, 0, 1, 2, 3, 1, 0, 1, 1, 3, 0, 3, 2, 1, 0, 0, 1, 1, 2, 0, 1, 2, 1, 3, 1, 1, 2, 2, 2, 1, 1, 1, 3, 2, 0, 3, 3, 2, 3, 1, 2, 1, 2, 1, 0, 1, 2, 2, 1, 2, 0, 3, 1, 0, 3, 3, 3, 1, 1, 3, 1, 3, 1, 1, 2, 2, 0, 2, 2, 1, 1, 1, 1, 1, 3, 3, 2, 1, 3, 0, 2, 0, 0, 3, 3, 1, 1, 2, 3, 0, 2, 2, 1, 1, 3, 2, 2, 3, 1, 1, 2, 3, 0, 2, 0, 3, 1, 2, 1, 0, 1, 2, 0, 2, 3, 1, 3, 0, 3, 1, 1, 2, 0, 1, 3, 1, 1, 2, 1, 2, 1, 1, 1, 2, 2, 3, 0, 1, 3, 1, 1, 2, 2, 1, 1, 1, 3, 3, 1, 2, 1, 2, 2, 3, 2, 0, 1, 1, 2, 3, 3, 0, 1, 3, 1, 1, 0, 1, 0, 1, 0, 3, 0, 2, 1, 0, 1, 2, 3, 2, 3, 2, 3, 3, 3, 1, 2, 2, 3, 1, 2, 3, 2, 1, 1, 1, 2, 3, 1, 0, 1, 1, 2, 3, 1, 1, 1, 2, 1, 0, 3, 3, 1, 1, 1, 2, 2, 1, 2, 2, 2, 1, 2, 3, 2, 1, 2, 0, 3, 0, 1, 3, 3, 2, 1, 1, 1, 3, 3, 1, 1, 1, 3, 0, 2, 1, 3, 1, 3, 2, 3, 2, 2, 0, 3, 1, 0, 1, 0, 1, 2, 2, 3, 3, 3, 2, 3, 3, 2, 2, 2, 2, 0, 2, 1, 1, 1, 3, 0, 2, 3, 3, 2, 0, 3, 1, 2, 0, 2, 1, 3, 2, 3, 1, 2, 1, 2, 0, 2, 1, 1, 2, 3, 3, 2, 1, 2, 1, 1, 2, 3, 3, 1, 2, 1, 1, 1, 2, 1, 1, 3, 2, 3, 1, 2, 2, 1, 0, 3, 2, 1, 0, 1, 0, 1, 1, 1, 2, 1, 1, 2, 0, 1, 2, 1, 1, 2, 3, 1, 2, 2, 1, 1, 1, 3, 1, 2, 2, 1, 3, 2, 0, 1, 3, 1, 3, 0, 3, 3, 1, 0, 2, 1, 2, 1, 2, 2, 3, 2, 3, 1, 1, 0, 2, 1, 1, 3, 3, 2, 2, 0, 1, 3, 1, 3, 3, 2, 1, 3, 3, 0, 2, 1, 1, 3, 3, 3, 2, 3, 2, 2, 1, 2, 1, 1, 2, 2, 1, 2, 1, 1, 1, 1, 2, 1, 3, 1, 2, 3, 0, 1, 1, 2, 2, 2, 3, 1, 1, 1, 1, 2, 3, 3, 2, 0, 0, 2, 1, 2, 0, 3, 3, 2, 0, 0, 3, 1, 1, 3, 0, 3, 3, 3, 2, 3, 1, 1, 1, 0, 1, 0, 1, 2, 2, 1, 2, 0, 1, 1, 2, 3, 3, 1, 1, 1, 1, 3, 1, 1, 3, 2, 1, 2, 1, 2, 1, 3, 1, 3, 1, 3, 2, 3, 1, 2, 0, 2, 2, 1, 3, 0, 3, 2, 2, 2, 0, 3, 1, 3, 2, 3, 2, 3, 1, 1, 1, 3, 3, 0, 2, 1, 3, 2, 3, 2, 1, 2, 1, 1, 1, 3, 1, 2, 2, 2, 1, 3, 1, 1, 1, 3, 3, 2, 1, 1, 3, 1, 3, 0, 2, 3, 3, 2, 1, 3, 0, 3, 0, 0, 3, 2, 3, 1, 3, 2, 2, 2, 2, 1, 0, 0, 2, 2, 0, 1, 1, 1, 2, 1, 1, 3, 2, 2, 1, 1, 3, 2, 1, 1, 2, 3, 0, 2, 2, 0, 1, 1, 1, 0, 0, 1, 3, 0, 2, 1, 0, 2, 1, 3, 2, 1, 1, 1, 2, 1, 2, 3, 1, 1, 1, 0, 3, 1, 0, 2, 1, 3, 1, 3, 3, 2, 1, 1, 1, 1, 2, 3, 1, 2, 1, 0, 3, 0, 1, 2, 2, 3, 2, 0, 3, 2, 2, 3, 3, 1, 2, 2, 2, 1, 2, 2, 2, 3, 1, 2, 2, 0, 1, 1, 1, 2, 1, 2, 2, 2, 1, 1, 1, 2, 2, 1, 1, 1, 0, 2, 2, 1, 1, 0, 3, 1, 2, 1, 0, 3, 3, 0, 1, 3, 1, 2, 0, 2, 3, 0, 1, 1, 2, 2, 1, 1]\n",
      "822\n"
     ]
    }
   ],
   "source": [
    "p = gpc.predict_proba(np_test_X)\n",
    "print(p[821][0])\n",
    "\n",
    "'''for i in''' \n",
    "\n",
    "'''print(i)'''\n",
    "\n",
    "\n",
    "y_pred = []\n",
    "\n",
    "h, w = gpc.predict_proba(np_test_X).shape\n",
    "print(h, w)\n",
    "Arr = gpc.predict_proba(np_test_X)\n",
    "print(Arr[0][0])\n",
    "\n",
    "for i in range(h):\n",
    "    max_val = 0\n",
    "    for j in range(w):\n",
    "        if Arr[i][j]>=max_val:\n",
    "            max_val = Arr[i][j]\n",
    "            index = j\n",
    "        #temp =  gpc.predict_proba(np_test_X)[i][j]\n",
    "        if j == 3:\n",
    "            #y_pred.append(max_val)\n",
    "            y_pred.append(index)\n",
    "\n",
    "print('*'*60)\n",
    "print(y_pred)\n",
    "print(gpc.predict_proba(np_test_X).shape[0])"
   ]
  },
  {
   "cell_type": "code",
   "execution_count": 22,
   "metadata": {},
   "outputs": [
    {
     "name": "stdout",
     "output_type": "stream",
     "text": [
      "1.0\n",
      "Estimator Precison and Recall Rate：\n",
      "               precision    recall  f1-score   support\n",
      "\n",
      "           0       1.00      1.00      1.00       106\n",
      "           1       1.00      1.00      1.00       298\n",
      "           2       1.00      1.00      1.00       228\n",
      "           3       1.00      1.00      1.00       190\n",
      "\n",
      "    accuracy                           1.00       822\n",
      "   macro avg       1.00      1.00      1.00       822\n",
      "weighted avg       1.00      1.00      1.00       822\n",
      "\n"
     ]
    }
   ],
   "source": [
    "from sklearn.metrics import classification_report\n",
    "print(gpc.score(np_test_X, np_test_y))\n",
    "\n",
    "print(\"Estimator Precison and Recall Rate：\\n\", classification_report(np_test_y, y_pred))"
   ]
  },
  {
   "cell_type": "code",
   "execution_count": 9,
   "metadata": {},
   "outputs": [
    {
     "name": "stdout",
     "output_type": "stream",
     "text": [
      "822\n"
     ]
    }
   ],
   "source": [
    "print(len(y_pred))"
   ]
  },
  {
   "cell_type": "code",
   "execution_count": 10,
   "metadata": {},
   "outputs": [
    {
     "name": "stdout",
     "output_type": "stream",
     "text": [
      "(822, 4)\n"
     ]
    }
   ],
   "source": [
    "print(gpc.predict_proba(np_test_X).shape)"
   ]
  },
  {
   "cell_type": "code",
   "execution_count": 11,
   "metadata": {},
   "outputs": [
    {
     "name": "stdout",
     "output_type": "stream",
     "text": [
      "(1917, 144)\n"
     ]
    }
   ],
   "source": [
    "print(np_train_X.shape)"
   ]
  },
  {
   "cell_type": "code",
   "execution_count": 12,
   "metadata": {},
   "outputs": [],
   "source": [
    "from sklearn.model_selection import train_test_split\n",
    "from sklearn.model_selection import GridSearchCV\n",
    "from sklearn.datasets import fetch_lfw_people\n",
    "from sklearn.metrics import classification_report\n",
    "from sklearn.metrics import confusion_matrix\n",
    "from sklearn.decomposition import PCA\n",
    "from sklearn.svm import SVC\n",
    "\n"
   ]
  },
  {
   "cell_type": "code",
   "execution_count": 13,
   "metadata": {},
   "outputs": [
    {
     "name": "stdout",
     "output_type": "stream",
     "text": [
      "Fitting the classifier to the training set\n",
      "done in 66.955s\n",
      "Best estimator found by grid search:\n",
      "SVC(C=1000.0, class_weight='balanced', gamma=0.0005)\n"
     ]
    }
   ],
   "source": [
    "from time import time\n",
    "# Train a SVM classification model\n",
    "\n",
    "print(\"Fitting the classifier to the training set\")\n",
    "t0 = time()\n",
    "param_grid = {'C': [1e3, 5e3, 1e4, 5e4, 1e5],\n",
    "              'gamma': [0.0001, 0.0005, 0.001, 0.005, 0.01, 0.1], }\n",
    "clf = GridSearchCV(\n",
    "    SVC(kernel='rbf', class_weight='balanced'), param_grid\n",
    ")\n",
    "clf = clf.fit(np_train_X, train_y)\n",
    "print(\"done in %0.3fs\" % (time() - t0))\n",
    "print(\"Best estimator found by grid search:\")\n",
    "print(clf.best_estimator_)\n",
    "\n"
   ]
  },
  {
   "cell_type": "code",
   "execution_count": 14,
   "metadata": {},
   "outputs": [
    {
     "data": {
      "text/plain": [
       "array([1, 3, 3, 1, 1, 2, 2, 3, 1, 1, 3, 3, 1, 1, 3, 2, 3, 2, 1, 3, 2, 1,\n",
       "       3, 3, 1, 0, 0, 3, 2, 1, 1, 2, 1, 0, 1, 0, 3, 3, 0, 3, 1, 0, 2, 2,\n",
       "       2, 1, 1, 0, 2, 3, 0, 3, 3, 3, 2, 0, 1, 2, 1, 0, 2, 0, 2, 2, 1, 3,\n",
       "       2, 1, 1, 1, 2, 1, 0, 0, 1, 3, 3, 1, 1, 1, 1, 1, 2, 3, 1, 0, 2, 3,\n",
       "       2, 1, 3, 3, 1, 3, 1, 2, 3, 1, 1, 2, 0, 2, 0, 1, 2, 3, 1, 0, 1, 1,\n",
       "       3, 0, 3, 2, 1, 0, 0, 1, 1, 2, 0, 1, 2, 1, 3, 1, 1, 2, 2, 2, 1, 1,\n",
       "       1, 3, 2, 0, 3, 3, 2, 3, 1, 2, 1, 2, 1, 0, 1, 2, 2, 1, 2, 0, 3, 1,\n",
       "       0, 3, 3, 3, 1, 1, 3, 1, 3, 1, 1, 2, 2, 0, 2, 2, 1, 1, 1, 1, 1, 3,\n",
       "       3, 2, 1, 3, 0, 2, 0, 0, 3, 3, 1, 1, 2, 3, 0, 2, 2, 1, 1, 3, 2, 2,\n",
       "       3, 1, 1, 2, 3, 0, 2, 0, 3, 1, 2, 1, 0, 1, 2, 0, 2, 3, 1, 3, 0, 3,\n",
       "       1, 1, 2, 0, 1, 3, 1, 1, 2, 1, 2, 1, 1, 1, 2, 2, 3, 0, 1, 3, 1, 1,\n",
       "       2, 2, 1, 1, 1, 3, 3, 1, 2, 1, 2, 2, 3, 2, 0, 1, 1, 2, 3, 3, 0, 1,\n",
       "       3, 1, 1, 0, 1, 0, 1, 0, 3, 0, 2, 1, 0, 1, 2, 3, 2, 3, 2, 3, 3, 3,\n",
       "       1, 2, 2, 3, 1, 2, 3, 2, 1, 1, 1, 2, 3, 1, 0, 1, 1, 2, 3, 1, 1, 1,\n",
       "       2, 1, 0, 3, 3, 1, 1, 1, 2, 2, 1, 2, 2, 2, 1, 2, 3, 2, 1, 2, 0, 3,\n",
       "       0, 1, 3, 3, 2, 1, 1, 1, 3, 3, 1, 1, 1, 3, 0, 2, 1, 3, 1, 3, 2, 3,\n",
       "       2, 2, 0, 3, 1, 0, 1, 0, 1, 2, 2, 3, 3, 3, 2, 3, 3, 2, 2, 2, 2, 0,\n",
       "       2, 1, 1, 1, 3, 0, 2, 3, 3, 2, 0, 3, 1, 2, 0, 2, 1, 3, 2, 3, 1, 2,\n",
       "       1, 2, 0, 2, 1, 1, 2, 3, 3, 2, 1, 2, 1, 1, 2, 3, 3, 1, 2, 1, 1, 1,\n",
       "       2, 1, 1, 3, 2, 3, 1, 2, 2, 1, 0, 3, 2, 1, 0, 1, 0, 1, 1, 1, 2, 1,\n",
       "       1, 2, 0, 1, 2, 1, 1, 2, 3, 1, 2, 2, 1, 1, 1, 3, 1, 2, 2, 1, 3, 2,\n",
       "       0, 1, 3, 1, 3, 0, 3, 3, 1, 0, 2, 1, 2, 1, 2, 2, 3, 2, 3, 1, 1, 0,\n",
       "       2, 1, 1, 3, 3, 2, 2, 0, 1, 3, 1, 3, 3, 2, 1, 3, 3, 0, 2, 1, 1, 3,\n",
       "       3, 3, 2, 3, 2, 2, 1, 2, 1, 1, 2, 2, 1, 2, 1, 1, 1, 1, 2, 1, 3, 1,\n",
       "       2, 3, 0, 1, 1, 2, 2, 2, 3, 1, 1, 1, 1, 2, 3, 3, 2, 0, 0, 2, 1, 2,\n",
       "       0, 3, 3, 2, 0, 0, 3, 1, 1, 3, 0, 3, 3, 3, 2, 3, 1, 1, 1, 0, 1, 0,\n",
       "       1, 2, 2, 1, 2, 0, 1, 1, 2, 3, 3, 1, 1, 1, 1, 3, 1, 1, 3, 2, 1, 2,\n",
       "       1, 2, 1, 3, 1, 3, 1, 3, 2, 3, 1, 2, 0, 2, 2, 1, 3, 0, 3, 2, 2, 2,\n",
       "       0, 3, 1, 3, 2, 3, 2, 3, 1, 1, 1, 3, 3, 0, 2, 1, 3, 2, 3, 2, 1, 2,\n",
       "       1, 1, 1, 3, 1, 2, 2, 2, 1, 3, 1, 1, 1, 3, 3, 2, 1, 1, 3, 1, 3, 0,\n",
       "       2, 3, 3, 2, 1, 3, 0, 3, 0, 0, 3, 2, 3, 1, 3, 2, 2, 2, 2, 1, 0, 0,\n",
       "       2, 2, 0, 1, 1, 1, 2, 1, 1, 3, 2, 2, 1, 1, 3, 2, 1, 1, 2, 3, 0, 2,\n",
       "       2, 0, 1, 1, 1, 0, 0, 1, 3, 0, 2, 1, 0, 2, 1, 3, 2, 1, 1, 1, 2, 1,\n",
       "       2, 3, 1, 1, 1, 0, 3, 1, 0, 2, 1, 3, 1, 3, 3, 2, 1, 1, 1, 1, 2, 3,\n",
       "       1, 2, 1, 0, 3, 0, 1, 2, 2, 3, 2, 0, 3, 2, 2, 3, 3, 1, 2, 2, 2, 1,\n",
       "       2, 2, 2, 3, 1, 2, 2, 0, 1, 1, 1, 2, 1, 2, 2, 2, 1, 1, 1, 2, 2, 1,\n",
       "       1, 1, 0, 2, 2, 1, 1, 0, 3, 1, 2, 1, 0, 3, 3, 0, 1, 3, 1, 2, 0, 2,\n",
       "       3, 0, 1, 1, 2, 2, 1, 1], dtype=int64)"
      ]
     },
     "execution_count": 14,
     "metadata": {},
     "output_type": "execute_result"
    }
   ],
   "source": [
    "sm = SVC(kernel='rbf', class_weight='balanced', C=1000.0, gamma=0.005)\n",
    "sm.fit(np_train_X, train_y)\n",
    "sm.predict(np_test_X)"
   ]
  },
  {
   "cell_type": "code",
   "execution_count": 17,
   "metadata": {},
   "outputs": [
    {
     "name": "stdout",
     "output_type": "stream",
     "text": [
      "1.0\n"
     ]
    }
   ],
   "source": [
    "print(sm.score(np_test_X, np_test_y))"
   ]
  },
  {
   "cell_type": "code",
   "execution_count": 23,
   "metadata": {},
   "outputs": [
    {
     "name": "stdout",
     "output_type": "stream",
     "text": [
      "1.0\n",
      "Estimator Precison and Recall Rate：\n",
      "               precision    recall  f1-score   support\n",
      "\n",
      "           0       1.00      1.00      1.00       106\n",
      "           1       1.00      1.00      1.00       298\n",
      "           2       1.00      1.00      1.00       228\n",
      "           3       1.00      1.00      1.00       190\n",
      "\n",
      "    accuracy                           1.00       822\n",
      "   macro avg       1.00      1.00      1.00       822\n",
      "weighted avg       1.00      1.00      1.00       822\n",
      "\n"
     ]
    }
   ],
   "source": [
    "print(gpc.score(np_test_X, np_test_y))\n",
    "\n",
    "print(\"Estimator Precison and Recall Rate：\\n\", classification_report(np_test_y, y_pred))"
   ]
  },
  {
   "cell_type": "code",
   "execution_count": null,
   "metadata": {},
   "outputs": [],
   "source": []
  }
 ],
 "metadata": {
  "kernelspec": {
   "display_name": "Python 3",
   "language": "python",
   "name": "python3"
  },
  "language_info": {
   "codemirror_mode": {
    "name": "ipython",
    "version": 3
   },
   "file_extension": ".py",
   "mimetype": "text/x-python",
   "name": "python",
   "nbconvert_exporter": "python",
   "pygments_lexer": "ipython3",
   "version": "3.8.5"
  }
 },
 "nbformat": 4,
 "nbformat_minor": 4
}
